{
  "nbformat": 4,
  "nbformat_minor": 0,
  "metadata": {
    "colab": {
      "provenance": []
    },
    "kernelspec": {
      "name": "python3",
      "display_name": "Python 3"
    },
    "language_info": {
      "name": "python"
    }
  },
  "cells": [
    {
      "cell_type": "markdown",
      "source": [
        "Linked Notebooks:\n",
        "<br>\n",
        "1. Problem on Negative Units Sold Difference: <br>\n",
        "https://colab.research.google.com/drive/1dpvkWPKPoRmGDRERh4CWUssP9n58y5Ol?usp=sharing"
      ],
      "metadata": {
        "id": "sL7KyXTCtes0"
      }
    },
    {
      "cell_type": "markdown",
      "source": [
        "### Notes:\n",
        "\n",
        "1. Create a transformation pipeline for prediction. Transform X features similar\n",
        "to trained X data.\n",
        "2. Hyperopt, for hyperparameter tuning.\n",
        "3. Add a auto-learn and auto build feature."
      ],
      "metadata": {
        "id": "KjJqimyJwxva"
      }
    },
    {
      "cell_type": "code",
      "source": [
        "!pip install pyjanitor --quiet\n",
        "!pip install --upgrade pandas-flavor --quiet\n",
        "# !pip install shap --quiet"
      ],
      "metadata": {
        "id": "wv4Xg0yfGYY-",
        "colab": {
          "base_uri": "https://localhost:8080/"
        },
        "outputId": "01cbe573-317f-4de4-bd89-67e891e8abd2"
      },
      "execution_count": 4,
      "outputs": [
        {
          "output_type": "stream",
          "name": "stdout",
          "text": [
            "\u001b[?25l     \u001b[90m━━━━━━━━━━━━━━━━━━━━━━━━━━━━━━━━━━━━━━━━\u001b[0m \u001b[32m0.0/171.8 kB\u001b[0m \u001b[31m?\u001b[0m eta \u001b[36m-:--:--\u001b[0m\r\u001b[2K     \u001b[91m━━━━━━━━━━━━━━━━━━━━━━━━━━━━━━━━━━━━━━\u001b[0m\u001b[90m╺\u001b[0m\u001b[90m━\u001b[0m \u001b[32m163.8/171.8 kB\u001b[0m \u001b[31m5.0 MB/s\u001b[0m eta \u001b[36m0:00:01\u001b[0m\r\u001b[2K     \u001b[90m━━━━━━━━━━━━━━━━━━━━━━━━━━━━━━━━━━━━━━━━\u001b[0m \u001b[32m171.8/171.8 kB\u001b[0m \u001b[31m3.8 MB/s\u001b[0m eta \u001b[36m0:00:00\u001b[0m\n",
            "\u001b[?25h"
          ]
        }
      ]
    },
    {
      "cell_type": "code",
      "source": [
        "from prepare_analytics import *\n",
        "import pandas as pd\n",
        "import numpy as np\n",
        "\n",
        "from plotnine import *\n",
        "import janitor\n",
        "import janitor.ml\n",
        "import pandas_flavor as pf\n",
        "import warnings\n",
        "import missingno as mnso\n",
        "from scipy.stats import zscore\n",
        "import pandas_flavor as pf\n",
        "\n",
        "from google.colab import data_table\n",
        "data_table.disable_dataframe_formatter()\n",
        "\n",
        "\n",
        "warnings.filterwarnings(action='ignore')\n",
        "pd.options.display.max_columns=50\n",
        "\n",
        "# read dataframe\n",
        "pep = pd.read_csv('client_pepsi_coke.csv', index_col=0)"
      ],
      "metadata": {
        "id": "dqSn1f98z3cz"
      },
      "execution_count": 24,
      "outputs": []
    },
    {
      "cell_type": "markdown",
      "source": [
        "#### Preprocessing"
      ],
      "metadata": {
        "id": "gmSwrzznHqkG"
      }
    },
    {
      "cell_type": "code",
      "source": [
        "@pf.register_dataframe_method\n",
        "def create_price_before_discount(df):\n",
        "    \"\"\"\n",
        "\n",
        "    \"\"\"\n",
        "\n",
        "    price_before_discount_clean = []\n",
        "    for i in df.price_before_discount:\n",
        "        if i == '':\n",
        "            price_before_discount_clean.append(np.nan)\n",
        "        else:\n",
        "            price_before_discount_clean.append(i)\n",
        "\n",
        "    # copy price_before_discount before fill zero\n",
        "    discount = df.price_before_discount.copy()\n",
        "\n",
        "    # get index\n",
        "    discount_not_na = discount[discount.notna()].index\n",
        "    discount[discount_not_na] = 1\n",
        "    discount = discount.fillna(0)\n",
        "    discount = discount.astype('object')\n",
        "\n",
        "    new_columns = {\n",
        "        'is_discount' : discount,\n",
        "        'price_before_discount': pd.Series(\n",
        "        price_before_discount_clean, dtype='float')}\n",
        "\n",
        "    df.assign(**new_columns)\n",
        "\n",
        "    return df\n",
        "\n",
        "@pf.register_dataframe_method\n",
        "def update_bool_to_int(df):\n",
        "    \"\"\"\n",
        "    \"\"\"\n",
        "    bool_features = df.select_dtypes('bool').columns\n",
        "    df[bool_features] = df.select_dtypes('bool').astype('int')\n",
        "\n",
        "    return df\n",
        "\n",
        "@pf.register_dataframe_method\n",
        "def select_training_features(df):\n",
        "    \"\"\"\n",
        "    \"\"\"\n",
        "    features = [\n",
        "        'date', 'product_name', 'pack_size',\n",
        "        'pack_type', 'name', 'price_median',\n",
        "        'raw_discount', 'price_before_discount',\n",
        "        'low_price_guarantee', 'can_use_cod',\n",
        "        'units_sold_diff', 'month', 'day', 'sales']\n",
        "\n",
        "    df = df[features]\\\n",
        "        .reorder_columns(['date', 'month', 'day'])\n",
        "\n",
        "    return df\n",
        "\n",
        "@pf.register_dataframe_method\n",
        "def drop_constant_feat_for_pred(df):\n",
        "    \"\"\"\n",
        "    \"\"\"\n",
        "\n",
        "    const = ['pack_size', 'pack_type', 'name']\n",
        "    df = df.drop(const, axis=1)\n",
        "\n",
        "    return df\n",
        "\n",
        "@pf.register_dataframe_method\n",
        "def fix_units_negative(df)\\\n",
        "        -> pd.DataFrame:\n",
        "    \"\"\"\n",
        "        Fix the negative units sold diff. due to refunds or take backs of orders.\n",
        "    :return: An appeneded new series to the df. Which is a boolean indicator\n",
        "     to identify dates where refunds > units_sold.\n",
        "    :rtype: pd.DataFrame\n",
        "    \"\"\"\n",
        "    # get entries' index with negative value\n",
        "    index_neg_units_sold_diff = df.filter_on(\"units_sold_diff < 0\").index\n",
        "\n",
        "    # create function to return 1\n",
        "    fill_index_neg_bool = lambda x: 1 if x in index_neg_units_sold_diff else 0\n",
        "\n",
        "    # map function to dataframe\n",
        "    fill_index_neg_bool_series = pd.Series(\n",
        "        df.index.map(fill_index_neg_bool).to_list())\n",
        "\n",
        "    # set default value of units sold diff to 0\n",
        "    df.loc[index_neg_units_sold_diff, 'units_sold_diff'] = 0\n",
        "\n",
        "    # create refund series from mapped data\n",
        "    df['refund'] = fill_index_neg_bool_series\n",
        "\n",
        "    return df"
      ],
      "metadata": {
        "id": "EdGDvbx7xIH6"
      },
      "execution_count": 25,
      "outputs": []
    },
    {
      "cell_type": "code",
      "source": [
        "@pf.register_dataframe_method\n",
        "def fix_sales_negative(df)\\\n",
        "        -> pd.DataFrame:\n",
        "    \"\"\"\n",
        "        Fix the negative sales from negative units.\n",
        "        due to refunds or take backs of orders.\n",
        "    :return: Returns a dataframe with clean sales (without negatives)\n",
        "    :rtype: pd.DataFrame\n",
        "    \"\"\"\n",
        "    # get entries' index with negative value\n",
        "    index_neg_sales_diff = df.filter_on(\"sales < 0\").index\n",
        "\n",
        "    # create function to return 1\n",
        "    fill_index_neg_bool = lambda x: 1 if x in index_neg_sales_diff else 0\n",
        "\n",
        "    # set default value of units sold diff to 0\n",
        "    df.loc[index_neg_sales_diff, 'sales'] = 0\n",
        "\n",
        "    return df"
      ],
      "metadata": {
        "id": "pZyKB6d5wJmO"
      },
      "execution_count": 26,
      "outputs": []
    },
    {
      "cell_type": "markdown",
      "source": [
        "### Create product name\n",
        "- This step is int the automated process but was applied on the later data."
      ],
      "metadata": {
        "id": "EMDAka1fKVGO"
      }
    },
    {
      "cell_type": "code",
      "source": [
        "# filter column by brand Pepsi and coke\n",
        "pepsi = pep.filter_column_isin('brand', ['Pepsi'])\n",
        "coke = pep.filter_column_isin('brand', ['Coca-Cola'])\n",
        "\n",
        "# map name column to extract products (more simplified and atomic)\n",
        "pepsi_products = [\"Regular Soda\", \"Black\"]\n",
        "df_filtered = pepsi[pepsi.name.str.contains('Pepsi')].reset_index(drop=True)\n",
        "df_filtered['product_name'] = [pepsi_products[0] if re.search(\n",
        "    pepsi_products[0], i) else \"Pepsi Black\" for i in df_filtered.name]\n",
        "\n",
        "pepsi = df_filtered\n",
        "\n",
        "# concat and drop index\n",
        "pep_ml = pd.concat([pepsi, coke]).reset_index(drop=True)"
      ],
      "metadata": {
        "id": "Tj8NMza7Kq3p"
      },
      "execution_count": 27,
      "outputs": []
    },
    {
      "cell_type": "markdown",
      "source": [
        "### Create Sales"
      ],
      "metadata": {
        "id": "f8x4TPCutWfg"
      }
    },
    {
      "cell_type": "code",
      "source": [
        "# create sales feature\n",
        "pep_ml['sales'] = pep_ml.price_median * pep_ml.units_sold_diff"
      ],
      "metadata": {
        "id": "pkdDfZBGZtt2"
      },
      "execution_count": 28,
      "outputs": []
    },
    {
      "cell_type": "markdown",
      "source": [
        "### Fix Units Sold difference negative entries."
      ],
      "metadata": {
        "id": "KQdnPuIfqzll"
      }
    },
    {
      "cell_type": "code",
      "source": [
        "pep_ml = pep_ml\\\n",
        "    .fix_units_negative()\\\n",
        "    .fix_sales_negative()"
      ],
      "metadata": {
        "id": "7qlxN7WatTml"
      },
      "execution_count": 29,
      "outputs": []
    },
    {
      "cell_type": "code",
      "source": [
        "pep_ml = pep_ml\\\n",
        "    .create_price_before_discount()\\\n",
        "    .update_bool_to_int()\\\n",
        "    .select_training_features()"
      ],
      "metadata": {
        "id": "t3_skEkqxZrp"
      },
      "execution_count": 30,
      "outputs": []
    },
    {
      "cell_type": "markdown",
      "source": [
        "#### Numerical Features\n",
        "\n",
        "The y-class has outliers, it's either we impute the outliers or let it pass to training."
      ],
      "metadata": {
        "id": "bEdVCc3ielO1"
      }
    },
    {
      "cell_type": "code",
      "source": [
        "ggplot(pep_ml)\\\n",
        "    + geom_histogram(aes('sales'))"
      ],
      "metadata": {
        "id": "fjzOk0U9eRoj",
        "colab": {
          "base_uri": "https://localhost:8080/",
          "height": 515
        },
        "outputId": "05383531-1b80-4876-cb90-7548d2790364"
      },
      "execution_count": 12,
      "outputs": [
        {
          "output_type": "display_data",
          "data": {
            "text/plain": [
              "<Figure size 640x480 with 1 Axes>"
            ],
            "image/png": "[encoded data removed]"
          },
          "metadata": {
            "image/png": {
              "width": 640,
              "height": 480
            }
          }
        },
        {
          "output_type": "execute_result",
          "data": {
            "text/plain": [
              "<Figure Size: (640 x 480)>"
            ]
          },
          "metadata": {},
          "execution_count": 12
        }
      ]
    },
    {
      "cell_type": "code",
      "source": [
        "np.round(pep_ml.sales.describe().to_frame()).T"
      ],
      "metadata": {
        "id": "WnqeNqWFnRyv",
        "colab": {
          "base_uri": "https://localhost:8080/",
          "height": 81
        },
        "outputId": "8a26c6e0-7d34-4061-b87d-cad03c325e5e"
      },
      "execution_count": 31,
      "outputs": [
        {
          "output_type": "execute_result",
          "data": {
            "text/plain": [
              "       count   mean     std  min  25%  50%    75%       max\n",
              "sales  687.0  837.0  6805.0  0.0  0.0  0.0  132.0  146538.0"
            ],
            "text/html": [
              "\n",
              "  <div id=\"df-b3cb2d09-1163-48ed-a22c-8b9e7adc427c\" class=\"colab-df-container\">\n",
              "    <div>\n",
              "<style scoped>\n",
              "    .dataframe tbody tr th:only-of-type {\n",
              "        vertical-align: middle;\n",
              "    }\n",
              "\n",
              "    .dataframe tbody tr th {\n",
              "        vertical-align: top;\n",
              "    }\n",
              "\n",
              "    .dataframe thead th {\n",
              "        text-align: right;\n",
              "    }\n",
              "</style>\n",
              "<table border=\"1\" class=\"dataframe\">\n",
              "  <thead>\n",
              "    <tr style=\"text-align: right;\">\n",
              "      <th></th>\n",
              "      <th>count</th>\n",
              "      <th>mean</th>\n",
              "      <th>std</th>\n",
              "      <th>min</th>\n",
              "      <th>25%</th>\n",
              "      <th>50%</th>\n",
              "      <th>75%</th>\n",
              "      <th>max</th>\n",
              "    </tr>\n",
              "  </thead>\n",
              "  <tbody>\n",
              "    <tr>\n",
              "      <th>sales</th>\n",
              "      <td>687.0</td>\n",
              "      <td>837.0</td>\n",
              "      <td>6805.0</td>\n",
              "      <td>0.0</td>\n",
              "      <td>0.0</td>\n",
              "      <td>0.0</td>\n",
              "      <td>132.0</td>\n",
              "      <td>146538.0</td>\n",
              "    </tr>\n",
              "  </tbody>\n",
              "</table>\n",
              "</div>\n",
              "    <div class=\"colab-df-buttons\">\n",
              "\n",
              "  <div class=\"colab-df-container\">\n",
              "    <button class=\"colab-df-convert\" onclick=\"convertToInteractive('df-b3cb2d09-1163-48ed-a22c-8b9e7adc427c')\"\n",
              "            title=\"Convert this dataframe to an interactive table.\"\n",
              "            style=\"display:none;\">\n",
              "\n",
              "  <svg xmlns=\"http://www.w3.org/2000/svg\" height=\"24px\" viewBox=\"0 -960 960 960\">\n",
              "    <path d=\"M120-120v-720h720v720H120Zm60-500h600v-160H180v160Zm220 220h160v-160H400v160Zm0 220h160v-160H400v160ZM180-400h160v-160H180v160Zm440 0h160v-160H620v160ZM180-180h160v-160H180v160Zm440 0h160v-160H620v160Z\"/>\n",
              "  </svg>\n",
              "    </button>\n",
              "\n",
              "  <style>\n",
              "    .colab-df-container {\n",
              "      display:flex;\n",
              "      gap: 12px;\n",
              "    }\n",
              "\n",
              "    .colab-df-convert {\n",
              "      background-color: #E8F0FE;\n",
              "      border: none;\n",
              "      border-radius: 50%;\n",
              "      cursor: pointer;\n",
              "      display: none;\n",
              "      fill: #1967D2;\n",
              "      height: 32px;\n",
              "      padding: 0 0 0 0;\n",
              "      width: 32px;\n",
              "    }\n",
              "\n",
              "    .colab-df-convert:hover {\n",
              "      background-color: #E2EBFA;\n",
              "      box-shadow: 0px 1px 2px rgba(60, 64, 67, 0.3), 0px 1px 3px 1px rgba(60, 64, 67, 0.15);\n",
              "      fill: #174EA6;\n",
              "    }\n",
              "\n",
              "    .colab-df-buttons div {\n",
              "      margin-bottom: 4px;\n",
              "    }\n",
              "\n",
              "    [theme=dark] .colab-df-convert {\n",
              "      background-color: #3B4455;\n",
              "      fill: #D2E3FC;\n",
              "    }\n",
              "\n",
              "    [theme=dark] .colab-df-convert:hover {\n",
              "      background-color: #434B5C;\n",
              "      box-shadow: 0px 1px 3px 1px rgba(0, 0, 0, 0.15);\n",
              "      filter: drop-shadow(0px 1px 2px rgba(0, 0, 0, 0.3));\n",
              "      fill: #FFFFFF;\n",
              "    }\n",
              "  </style>\n",
              "\n",
              "    <script>\n",
              "      const buttonEl =\n",
              "        document.querySelector('#df-b3cb2d09-1163-48ed-a22c-8b9e7adc427c button.colab-df-convert');\n",
              "      buttonEl.style.display =\n",
              "        google.colab.kernel.accessAllowed ? 'block' : 'none';\n",
              "\n",
              "      async function convertToInteractive(key) {\n",
              "        const element = document.querySelector('#df-b3cb2d09-1163-48ed-a22c-8b9e7adc427c');\n",
              "        const dataTable =\n",
              "          await google.colab.kernel.invokeFunction('convertToInteractive',\n",
              "                                                    [key], {});\n",
              "        if (!dataTable) return;\n",
              "\n",
              "        const docLinkHtml = 'Like what you see? Visit the ' +\n",
              "          '<a target=\"_blank\" href=https://colab.research.google.com/notebooks/data_table.ipynb>data table notebook</a>'\n",
              "          + ' to learn more about interactive tables.';\n",
              "        element.innerHTML = '';\n",
              "        dataTable['output_type'] = 'display_data';\n",
              "        await google.colab.output.renderOutput(dataTable, element);\n",
              "        const docLink = document.createElement('div');\n",
              "        docLink.innerHTML = docLinkHtml;\n",
              "        element.appendChild(docLink);\n",
              "      }\n",
              "    </script>\n",
              "  </div>\n",
              "\n",
              "    </div>\n",
              "  </div>\n"
            ]
          },
          "metadata": {},
          "execution_count": 31
        }
      ]
    },
    {
      "cell_type": "code",
      "source": [
        "pep_ml_drop = pep_ml.dropna(subset='units_sold_diff').reset_index(drop=True)\n",
        "pep_ml_drop['units_sold_diff'] = pep_ml_drop.units_sold_diff.astype('int')\n",
        "non_zero_units_sold = pep_ml_drop[pep_ml_drop.units_sold_diff != 0]\\\n",
        "    .reset_index(drop=True)"
      ],
      "metadata": {
        "id": "P-XEK3gWpAG4"
      },
      "execution_count": 32,
      "outputs": []
    },
    {
      "cell_type": "code",
      "source": [
        "# z-score outlier detection\n",
        "z_scores = zscore(non_zero_units_sold.units_sold_diff)\n",
        "threshold = 2\n",
        "outliers = np.where(np.abs(z_scores) > threshold)\n",
        "non_zero_units_sold  = non_zero_units_sold.drop(outliers[0], axis=0)"
      ],
      "metadata": {
        "id": "bltqZr9z8ROr"
      },
      "execution_count": 33,
      "outputs": []
    },
    {
      "cell_type": "code",
      "source": [
        "ggplot(non_zero_units_sold) \\\n",
        "    + geom_histogram(aes('units_sold_diff'))"
      ],
      "metadata": {
        "id": "AHreUiW-crtp",
        "colab": {
          "base_uri": "https://localhost:8080/",
          "height": 515
        },
        "outputId": "83bc4d4b-41cc-4e59-9a8d-349cf4103902"
      },
      "execution_count": 34,
      "outputs": [
        {
          "output_type": "display_data",
          "data": {
            "text/plain": [
              "<Figure size 640x480 with 1 Axes>"
            ],
            "image/png": "[encoded data removed]"
          },
          "metadata": {
            "image/png": {
              "width": 640,
              "height": 480
            }
          }
        },
        {
          "output_type": "execute_result",
          "data": {
            "text/plain": [
              "<Figure Size: (640 x 480)>"
            ]
          },
          "metadata": {},
          "execution_count": 34
        }
      ]
    },
    {
      "cell_type": "markdown",
      "source": [
        "#### Feature Engineering"
      ],
      "metadata": {
        "id": "2sIvwgfsFMcK"
      }
    },
    {
      "cell_type": "code",
      "source": [
        "pep_ml['date'] = pd.to_datetime(pep_ml.date)"
      ],
      "metadata": {
        "id": "IWSr0bx3eK4I"
      },
      "execution_count": 35,
      "outputs": []
    },
    {
      "cell_type": "code",
      "source": [
        "pep_ml['week'] = pep_ml.date.dt.week\n",
        "pep_ml.info()"
      ],
      "metadata": {
        "id": "g0aZxs1aGEp7",
        "colab": {
          "base_uri": "https://localhost:8080/"
        },
        "outputId": "b88a4581-80c1-487f-e0f8-308109b8ba36"
      },
      "execution_count": 36,
      "outputs": [
        {
          "output_type": "stream",
          "name": "stdout",
          "text": [
            "<class 'pandas.core.frame.DataFrame'>\n",
            "RangeIndex: 706 entries, 0 to 705\n",
            "Data columns (total 15 columns):\n",
            " #   Column                 Non-Null Count  Dtype         \n",
            "---  ------                 --------------  -----         \n",
            " 0   date                   706 non-null    datetime64[ns]\n",
            " 1   month                  706 non-null    object        \n",
            " 2   day                    706 non-null    int64         \n",
            " 3   product_name           706 non-null    object        \n",
            " 4   pack_size              706 non-null    object        \n",
            " 5   pack_type              706 non-null    object        \n",
            " 6   name                   706 non-null    object        \n",
            " 7   price_median           706 non-null    int64         \n",
            " 8   raw_discount           706 non-null    int64         \n",
            " 9   price_before_discount  57 non-null     float64       \n",
            " 10  low_price_guarantee    706 non-null    int64         \n",
            " 11  can_use_cod            706 non-null    int64         \n",
            " 12  units_sold_diff        687 non-null    float64       \n",
            " 13  sales                  687 non-null    float64       \n",
            " 14  week                   706 non-null    int64         \n",
            "dtypes: datetime64[ns](1), float64(3), int64(6), object(5)\n",
            "memory usage: 82.9+ KB\n"
          ]
        }
      ]
    },
    {
      "cell_type": "markdown",
      "source": [
        "#### Drop date feature"
      ],
      "metadata": {
        "id": "3jwJt4pDKtYe"
      }
    },
    {
      "cell_type": "code",
      "source": [
        "pep_ml = pep_ml.drop('date', axis=1)"
      ],
      "metadata": {
        "id": "jdDBVjyXKkWP"
      },
      "execution_count": 37,
      "outputs": []
    },
    {
      "cell_type": "markdown",
      "source": [
        "### Modeling"
      ],
      "metadata": {
        "id": "rNkbvtM7nz4y"
      }
    },
    {
      "cell_type": "markdown",
      "source": [
        "1. Choose a validation set, training set, and test set.\n",
        "2. Use a model that is robust to outliers.\n",
        "> Tree-based Regressors, or boosting models.\n",
        "3. The metric should be accuracy and precision\n",
        "4. The model should explainable."
      ],
      "metadata": {
        "id": "sy6ULH2dCVDi"
      }
    },
    {
      "cell_type": "code",
      "source": [
        "from sklearn.compose import make_column_transformer\n",
        "from sklearn.preprocessing import StandardScaler, OneHotEncoder"
      ],
      "metadata": {
        "id": "bCdeFytNK7Aw"
      },
      "execution_count": 39,
      "outputs": []
    },
    {
      "cell_type": "markdown",
      "source": [
        "Date masking"
      ],
      "metadata": {
        "id": "KXeVlQs0e_hk"
      }
    },
    {
      "cell_type": "code",
      "source": [
        "pep_ml_sept_oct = pep_ml.filter_column_isin('month', ['September', 'October']).reset_index(drop=True)"
      ],
      "metadata": {
        "id": "HGNdhKELfA5D"
      },
      "execution_count": 40,
      "outputs": []
    },
    {
      "cell_type": "markdown",
      "source": [
        "Product masking"
      ],
      "metadata": {
        "id": "MIzmAovRiHyV"
      }
    },
    {
      "cell_type": "code",
      "source": [
        "regular_soda = pep_ml_sept_oct.filter_column_isin('product_name', ['Regular Soda']).reset_index(drop=True)"
      ],
      "metadata": {
        "id": "C8cGdjGDiGfY"
      },
      "execution_count": 42,
      "outputs": []
    },
    {
      "cell_type": "markdown",
      "source": [
        "Select features & prepare features"
      ],
      "metadata": {
        "id": "28ARnM2bMdq2"
      }
    },
    {
      "cell_type": "code",
      "source": [
        "X, y = regular_soda.get_features_targets('sales')\n",
        "\n",
        "# select and change astyle of int to cat\n",
        "num_cat_feat = ['day', 'low_price_guarantee','week']\n",
        "X = X.change_type(num_cat_feat, dtype='object')"
      ],
      "metadata": {
        "id": "q2MgbzGFMdhF"
      },
      "execution_count": 43,
      "outputs": []
    },
    {
      "cell_type": "code",
      "source": [
        "# units sold to be 0 instead of NaN\n",
        "X.units_sold_diff = X.units_sold_diff.fillna(0)\n",
        "\n",
        "# create discount\n",
        "\n",
        "discount = X.price_before_discount.copy()\n",
        "discount_not_na = discount[discount.notna()].index\n",
        "discount[discount_not_na] = 1\n",
        "discount = discount.fillna(0)\n",
        "discount = discount.astype('object')\n",
        "X['is_discounted'] = discount"
      ],
      "metadata": {
        "id": "BqA9Y9hZvp0p"
      },
      "execution_count": 44,
      "outputs": []
    },
    {
      "cell_type": "code",
      "source": [
        "def create_price_before_discount_bool(df):\n",
        "\n",
        "    # copy price_before_discount before fill zero\n",
        "    discount = df.price_before_discount.copy()\n",
        "\n",
        "    # get index\n",
        "    discount_not_na = discount[discount.notna()].index\n",
        "    discount[discount_not_na] = 1\n",
        "    discount = discount.fillna(0)\n",
        "    discount = discount.astype('object')\n",
        "\n",
        "    new_columns = {'is_discount' : discount}\n",
        "    df.assign(**new_columns)\n"
      ],
      "metadata": {
        "id": "v4TdZi4P3tg5"
      },
      "execution_count": null,
      "outputs": []
    },
    {
      "cell_type": "code",
      "source": [
        "# nan index\n",
        "index_price_before = X[X.price_before_discount.isna()].index\n",
        "\n",
        "X.price_before_discount.iloc[index_price_before] = X.price_median\\\n",
        "    .iloc[index_price_before]"
      ],
      "metadata": {
        "id": "jCogFlmSvwuZ"
      },
      "execution_count": 45,
      "outputs": []
    },
    {
      "cell_type": "markdown",
      "source": [
        "#### Choose one product for training"
      ],
      "metadata": {
        "id": "zr1ly3tuaHrv"
      }
    },
    {
      "cell_type": "markdown",
      "source": [
        "Column Transformer"
      ],
      "metadata": {
        "id": "VyezFAKtL-z3"
      }
    },
    {
      "cell_type": "code",
      "source": [
        "def transform_column(X, number_names: list, object_names: list)\\\n",
        "-> pd.DataFrame():\n",
        "    \"\"\"\n",
        "    :description:\n",
        "        Column transformer function\n",
        "    :X: contains x features for training data.\n",
        "    :X type: pd.DataFrame\n",
        "    :number_names: List names of numerical features to be transformed.\n",
        "    :number_names type: List\n",
        "    :object_names: List names of object features to be transformed.\n",
        "    :object_names type: List\n",
        "    \"\"\"\n",
        "    ct = make_column_transformer(\n",
        "        (StandardScaler(), number_names),\n",
        "        (OneHotEncoder(), object_names))\n",
        "\n",
        "    X_transformed = ct.fit_transform(X).toarray()\n",
        "\n",
        "    # get labels from one hot encoder\n",
        "    encoded_feat_names = ct.named_transformers_['onehotencoder']\\\n",
        "        .get_feature_names_out()\n",
        "\n",
        "    all_feat = number_names\n",
        "    all_feat.extend(encoded_feat_names)\n",
        "\n",
        "    X_ct = pd.DataFrame(X_transformed, columns=all_feat)\n",
        "\n",
        "    return X_ct"
      ],
      "metadata": {
        "id": "d4DAsp2kUAyR"
      },
      "execution_count": 46,
      "outputs": []
    },
    {
      "cell_type": "code",
      "source": [
        "x_num_names = X.select_dtypes('number').columns.to_list()\n",
        "x_obj_names = X.select_dtypes('object').columns.to_list()"
      ],
      "metadata": {
        "id": "8ajs_W-0Vptd"
      },
      "execution_count": 47,
      "outputs": []
    },
    {
      "cell_type": "markdown",
      "source": [
        "Transform"
      ],
      "metadata": {
        "id": "jkedSfV9cpYh"
      }
    },
    {
      "cell_type": "code",
      "source": [
        "x_num_names = X.select_dtypes('number')\\\n",
        "    .columns.to_list()\n",
        "x_obj_names = X.select_dtypes('object')\\\n",
        "    .columns.to_list()"
      ],
      "metadata": {
        "id": "3-b14ppactK5"
      },
      "execution_count": 48,
      "outputs": []
    },
    {
      "cell_type": "code",
      "source": [
        "tdf = transform_column(X, x_num_names, x_obj_names)"
      ],
      "metadata": {
        "id": "lxf1Tfz2cq2h"
      },
      "execution_count": 49,
      "outputs": []
    },
    {
      "cell_type": "markdown",
      "source": [
        "### Build a model"
      ],
      "metadata": {
        "id": "v2TlhREfYvio"
      }
    },
    {
      "cell_type": "code",
      "source": [
        "!pip install shap --quiet"
      ],
      "metadata": {
        "colab": {
          "base_uri": "https://localhost:8080/"
        },
        "id": "LjwKGGUTxzR9",
        "outputId": "c02110e3-3e7b-4c79-b560-3562ed5d6f48"
      },
      "execution_count": 50,
      "outputs": [
        {
          "output_type": "stream",
          "name": "stdout",
          "text": [
            "\u001b[?25l     \u001b[90m━━━━━━━━━━━━━━━━━━━━━━━━━━━━━━━━━━━━━━━━\u001b[0m \u001b[32m0.0/532.9 kB\u001b[0m \u001b[31m?\u001b[0m eta \u001b[36m-:--:--\u001b[0m\r\u001b[2K     \u001b[91m━━━━━━\u001b[0m\u001b[91m╸\u001b[0m\u001b[90m━━━━━━━━━━━━━━━━━━━━━━━━━━━━━━━━━\u001b[0m \u001b[32m92.2/532.9 kB\u001b[0m \u001b[31m2.6 MB/s\u001b[0m eta \u001b[36m0:00:01\u001b[0m\r\u001b[2K     \u001b[91m━━━━━━━━━━━━━━━━━━━━━━━━━━━━\u001b[0m\u001b[90m╺\u001b[0m\u001b[90m━━━━━━━━━━━\u001b[0m \u001b[32m378.9/532.9 kB\u001b[0m \u001b[31m5.4 MB/s\u001b[0m eta \u001b[36m0:00:01\u001b[0m\r\u001b[2K     \u001b[90m━━━━━━━━━━━━━━━━━━━━━━━━━━━━━━━━━━━━━━━━\u001b[0m \u001b[32m532.9/532.9 kB\u001b[0m \u001b[31m5.5 MB/s\u001b[0m eta \u001b[36m0:00:00\u001b[0m\n",
            "\u001b[?25h"
          ]
        }
      ]
    },
    {
      "cell_type": "code",
      "source": [
        "from sklearn.ensemble import RandomForestRegressor\n",
        "from xgboost import XGBRegressor\n",
        "from sklearn.linear_model import LinearRegression\n",
        "\n",
        "from sklearn.metrics import r2_score, accuracy_score,\\\n",
        "    precision_score, mean_squared_error\n",
        "\n",
        "from sklearn.model_selection import cross_val_score\n",
        "\n",
        "import shap"
      ],
      "metadata": {
        "id": "9xU7_J43Yx0F"
      },
      "execution_count": 51,
      "outputs": []
    },
    {
      "cell_type": "code",
      "source": [
        "def get_cvs_score(model, scoring: str, cv=5) -> None:\n",
        "    scores = cross_val_score(model, tdf, y, cv=cv, scoring=scoring)\n",
        "    for i, score in enumerate(scores):\n",
        "        print(i, score)"
      ],
      "metadata": {
        "id": "5Bem-WBFk6eF"
      },
      "execution_count": 52,
      "outputs": []
    },
    {
      "cell_type": "code",
      "source": [
        "lm = LinearRegression()\n",
        "get_cvs_score(model=lm, scoring='r2')"
      ],
      "metadata": {
        "colab": {
          "base_uri": "https://localhost:8080/"
        },
        "id": "flSArIo1d7vM",
        "outputId": "cb590397-2c39-4424-fbcf-ce64cf5728e9"
      },
      "execution_count": 53,
      "outputs": [
        {
          "output_type": "stream",
          "name": "stdout",
          "text": [
            "0 -1.788932599128148e+16\n",
            "1 -1.983243182606101e+23\n",
            "2 -1.5539546566585333e+23\n",
            "3 -1.342555871070716e+21\n",
            "4 -8.023873213768075e+24\n"
          ]
        }
      ]
    },
    {
      "cell_type": "code",
      "source": [
        "rfr = RandomForestRegressor(random_state=5)"
      ],
      "metadata": {
        "id": "UFmpOg2ylg2t"
      },
      "execution_count": 54,
      "outputs": []
    },
    {
      "cell_type": "code",
      "source": [
        "get_cvs_score(rfr, scoring='r2')"
      ],
      "metadata": {
        "id": "m5AcptYzlfoO",
        "colab": {
          "base_uri": "https://localhost:8080/"
        },
        "outputId": "70d94edd-3a94-443c-d070-010efb4e9144"
      },
      "execution_count": 55,
      "outputs": [
        {
          "output_type": "stream",
          "name": "stdout",
          "text": [
            "0 -0.058715531736898585\n",
            "1 -110.33340249724033\n",
            "2 -0.3953715674570366\n",
            "3 0.9924741780762187\n",
            "4 0.999958307374742\n"
          ]
        }
      ]
    },
    {
      "cell_type": "markdown",
      "source": [
        "train test split"
      ],
      "metadata": {
        "id": "1WuPFnSZlvoY"
      }
    },
    {
      "cell_type": "code",
      "source": [
        "from sklearn.model_selection import train_test_split"
      ],
      "metadata": {
        "id": "FCBA_c9Hl7Wj"
      },
      "execution_count": 56,
      "outputs": []
    },
    {
      "cell_type": "code",
      "source": [
        "X_train, X_test, y_train, y_test = train_test_split(\n",
        "    tdf, y, train_size=.8, random_state=5)"
      ],
      "metadata": {
        "id": "YyWE0vcrlxYM"
      },
      "execution_count": 57,
      "outputs": []
    },
    {
      "cell_type": "code",
      "source": [
        "rfr.fit(X_train, y_train)"
      ],
      "metadata": {
        "colab": {
          "base_uri": "https://localhost:8080/",
          "height": 75
        },
        "id": "CCvAp310l-ap",
        "outputId": "ad474b77-bb2a-497b-cbba-c1e907d32f36"
      },
      "execution_count": 58,
      "outputs": [
        {
          "output_type": "execute_result",
          "data": {
            "text/plain": [
              "RandomForestRegressor(random_state=5)"
            ],
            "text/html": [
              "<style>#sk-container-id-1 {color: black;background-color: white;}#sk-container-id-1 pre{padding: 0;}#sk-container-id-1 div.sk-toggleable {background-color: white;}#sk-container-id-1 label.sk-toggleable__label {cursor: pointer;display: block;width: 100%;margin-bottom: 0;padding: 0.3em;box-sizing: border-box;text-align: center;}#sk-container-id-1 label.sk-toggleable__label-arrow:before {content: \"▸\";float: left;margin-right: 0.25em;color: #696969;}#sk-container-id-1 label.sk-toggleable__label-arrow:hover:before {color: black;}#sk-container-id-1 div.sk-estimator:hover label.sk-toggleable__label-arrow:before {color: black;}#sk-container-id-1 div.sk-toggleable__content {max-height: 0;max-width: 0;overflow: hidden;text-align: left;background-color: #f0f8ff;}#sk-container-id-1 div.sk-toggleable__content pre {margin: 0.2em;color: black;border-radius: 0.25em;background-color: #f0f8ff;}#sk-container-id-1 input.sk-toggleable__control:checked~div.sk-toggleable__content {max-height: 200px;max-width: 100%;overflow: auto;}#sk-container-id-1 input.sk-toggleable__control:checked~label.sk-toggleable__label-arrow:before {content: \"▾\";}#sk-container-id-1 div.sk-estimator input.sk-toggleable__control:checked~label.sk-toggleable__label {background-color: #d4ebff;}#sk-container-id-1 div.sk-label input.sk-toggleable__control:checked~label.sk-toggleable__label {background-color: #d4ebff;}#sk-container-id-1 input.sk-hidden--visually {border: 0;clip: rect(1px 1px 1px 1px);clip: rect(1px, 1px, 1px, 1px);height: 1px;margin: -1px;overflow: hidden;padding: 0;position: absolute;width: 1px;}#sk-container-id-1 div.sk-estimator {font-family: monospace;background-color: #f0f8ff;border: 1px dotted black;border-radius: 0.25em;box-sizing: border-box;margin-bottom: 0.5em;}#sk-container-id-1 div.sk-estimator:hover {background-color: #d4ebff;}#sk-container-id-1 div.sk-parallel-item::after {content: \"\";width: 100%;border-bottom: 1px solid gray;flex-grow: 1;}#sk-container-id-1 div.sk-label:hover label.sk-toggleable__label {background-color: #d4ebff;}#sk-container-id-1 div.sk-serial::before {content: \"\";position: absolute;border-left: 1px solid gray;box-sizing: border-box;top: 0;bottom: 0;left: 50%;z-index: 0;}#sk-container-id-1 div.sk-serial {display: flex;flex-direction: column;align-items: center;background-color: white;padding-right: 0.2em;padding-left: 0.2em;position: relative;}#sk-container-id-1 div.sk-item {position: relative;z-index: 1;}#sk-container-id-1 div.sk-parallel {display: flex;align-items: stretch;justify-content: center;background-color: white;position: relative;}#sk-container-id-1 div.sk-item::before, #sk-container-id-1 div.sk-parallel-item::before {content: \"\";position: absolute;border-left: 1px solid gray;box-sizing: border-box;top: 0;bottom: 0;left: 50%;z-index: -1;}#sk-container-id-1 div.sk-parallel-item {display: flex;flex-direction: column;z-index: 1;position: relative;background-color: white;}#sk-container-id-1 div.sk-parallel-item:first-child::after {align-self: flex-end;width: 50%;}#sk-container-id-1 div.sk-parallel-item:last-child::after {align-self: flex-start;width: 50%;}#sk-container-id-1 div.sk-parallel-item:only-child::after {width: 0;}#sk-container-id-1 div.sk-dashed-wrapped {border: 1px dashed gray;margin: 0 0.4em 0.5em 0.4em;box-sizing: border-box;padding-bottom: 0.4em;background-color: white;}#sk-container-id-1 div.sk-label label {font-family: monospace;font-weight: bold;display: inline-block;line-height: 1.2em;}#sk-container-id-1 div.sk-label-container {text-align: center;}#sk-container-id-1 div.sk-container {/* jupyter's `normalize.less` sets `[hidden] { display: none; }` but bootstrap.min.css set `[hidden] { display: none !important; }` so we also need the `!important` here to be able to override the default hidden behavior on the sphinx rendered scikit-learn.org. See: https://github.com/scikit-learn/scikit-learn/issues/21755 */display: inline-block !important;position: relative;}#sk-container-id-1 div.sk-text-repr-fallback {display: none;}</style><div id=\"sk-container-id-1\" class=\"sk-top-container\"><div class=\"sk-text-repr-fallback\"><pre>RandomForestRegressor(random_state=5)</pre><b>In a Jupyter environment, please rerun this cell to show the HTML representation or trust the notebook. <br />On GitHub, the HTML representation is unable to render, please try loading this page with nbviewer.org.</b></div><div class=\"sk-container\" hidden><div class=\"sk-item\"><div class=\"sk-estimator sk-toggleable\"><input class=\"sk-toggleable__control sk-hidden--visually\" id=\"sk-estimator-id-1\" type=\"checkbox\" checked><label for=\"sk-estimator-id-1\" class=\"sk-toggleable__label sk-toggleable__label-arrow\">RandomForestRegressor</label><div class=\"sk-toggleable__content\"><pre>RandomForestRegressor(random_state=5)</pre></div></div></div></div></div>"
            ]
          },
          "metadata": {},
          "execution_count": 58
        }
      ]
    },
    {
      "cell_type": "code",
      "source": [
        "y_pred = rfr.predict(X_test)"
      ],
      "metadata": {
        "id": "F-hgIGwEmCC-"
      },
      "execution_count": 59,
      "outputs": []
    },
    {
      "cell_type": "code",
      "source": [
        "r2_score(y_pred, y_test)"
      ],
      "metadata": {
        "colab": {
          "base_uri": "https://localhost:8080/"
        },
        "id": "yX1rhCVCmIO6",
        "outputId": "39f49fb1-f228-46e0-aa8b-a79e37d7024e"
      },
      "execution_count": 60,
      "outputs": [
        {
          "output_type": "execute_result",
          "data": {
            "text/plain": [
              "0.653623234212061"
            ]
          },
          "metadata": {},
          "execution_count": 60
        }
      ]
    },
    {
      "cell_type": "code",
      "source": [
        "xgbr = XGBRegressor()"
      ],
      "metadata": {
        "id": "Ebo4emcfmRlB"
      },
      "execution_count": 61,
      "outputs": []
    },
    {
      "cell_type": "code",
      "source": [
        "xgbr.fit(X_train, y_train)"
      ],
      "metadata": {
        "colab": {
          "base_uri": "https://localhost:8080/",
          "height": 248
        },
        "id": "iteP0Tn4mZE6",
        "outputId": "c7ce600b-f438-4c94-ad79-998c7c874188"
      },
      "execution_count": 62,
      "outputs": [
        {
          "output_type": "execute_result",
          "data": {
            "text/plain": [
              "XGBRegressor(base_score=None, booster=None, callbacks=None,\n",
              "             colsample_bylevel=None, colsample_bynode=None,\n",
              "             colsample_bytree=None, device=None, early_stopping_rounds=None,\n",
              "             enable_categorical=False, eval_metric=None, feature_types=None,\n",
              "             gamma=None, grow_policy=None, importance_type=None,\n",
              "             interaction_constraints=None, learning_rate=None, max_bin=None,\n",
              "             max_cat_threshold=None, max_cat_to_onehot=None,\n",
              "             max_delta_step=None, max_depth=None, max_leaves=None,\n",
              "             min_child_weight=None, missing=nan, monotone_constraints=None,\n",
              "             multi_strategy=None, n_estimators=None, n_jobs=None,\n",
              "             num_parallel_tree=None, random_state=None, ...)"
            ],
            "text/html": [
              "<style>#sk-container-id-2 {color: black;background-color: white;}#sk-container-id-2 pre{padding: 0;}#sk-container-id-2 div.sk-toggleable {background-color: white;}#sk-container-id-2 label.sk-toggleable__label {cursor: pointer;display: block;width: 100%;margin-bottom: 0;padding: 0.3em;box-sizing: border-box;text-align: center;}#sk-container-id-2 label.sk-toggleable__label-arrow:before {content: \"▸\";float: left;margin-right: 0.25em;color: #696969;}#sk-container-id-2 label.sk-toggleable__label-arrow:hover:before {color: black;}#sk-container-id-2 div.sk-estimator:hover label.sk-toggleable__label-arrow:before {color: black;}#sk-container-id-2 div.sk-toggleable__content {max-height: 0;max-width: 0;overflow: hidden;text-align: left;background-color: #f0f8ff;}#sk-container-id-2 div.sk-toggleable__content pre {margin: 0.2em;color: black;border-radius: 0.25em;background-color: #f0f8ff;}#sk-container-id-2 input.sk-toggleable__control:checked~div.sk-toggleable__content {max-height: 200px;max-width: 100%;overflow: auto;}#sk-container-id-2 input.sk-toggleable__control:checked~label.sk-toggleable__label-arrow:before {content: \"▾\";}#sk-container-id-2 div.sk-estimator input.sk-toggleable__control:checked~label.sk-toggleable__label {background-color: #d4ebff;}#sk-container-id-2 div.sk-label input.sk-toggleable__control:checked~label.sk-toggleable__label {background-color: #d4ebff;}#sk-container-id-2 input.sk-hidden--visually {border: 0;clip: rect(1px 1px 1px 1px);clip: rect(1px, 1px, 1px, 1px);height: 1px;margin: -1px;overflow: hidden;padding: 0;position: absolute;width: 1px;}#sk-container-id-2 div.sk-estimator {font-family: monospace;background-color: #f0f8ff;border: 1px dotted black;border-radius: 0.25em;box-sizing: border-box;margin-bottom: 0.5em;}#sk-container-id-2 div.sk-estimator:hover {background-color: #d4ebff;}#sk-container-id-2 div.sk-parallel-item::after {content: \"\";width: 100%;border-bottom: 1px solid gray;flex-grow: 1;}#sk-container-id-2 div.sk-label:hover label.sk-toggleable__label {background-color: #d4ebff;}#sk-container-id-2 div.sk-serial::before {content: \"\";position: absolute;border-left: 1px solid gray;box-sizing: border-box;top: 0;bottom: 0;left: 50%;z-index: 0;}#sk-container-id-2 div.sk-serial {display: flex;flex-direction: column;align-items: center;background-color: white;padding-right: 0.2em;padding-left: 0.2em;position: relative;}#sk-container-id-2 div.sk-item {position: relative;z-index: 1;}#sk-container-id-2 div.sk-parallel {display: flex;align-items: stretch;justify-content: center;background-color: white;position: relative;}#sk-container-id-2 div.sk-item::before, #sk-container-id-2 div.sk-parallel-item::before {content: \"\";position: absolute;border-left: 1px solid gray;box-sizing: border-box;top: 0;bottom: 0;left: 50%;z-index: -1;}#sk-container-id-2 div.sk-parallel-item {display: flex;flex-direction: column;z-index: 1;position: relative;background-color: white;}#sk-container-id-2 div.sk-parallel-item:first-child::after {align-self: flex-end;width: 50%;}#sk-container-id-2 div.sk-parallel-item:last-child::after {align-self: flex-start;width: 50%;}#sk-container-id-2 div.sk-parallel-item:only-child::after {width: 0;}#sk-container-id-2 div.sk-dashed-wrapped {border: 1px dashed gray;margin: 0 0.4em 0.5em 0.4em;box-sizing: border-box;padding-bottom: 0.4em;background-color: white;}#sk-container-id-2 div.sk-label label {font-family: monospace;font-weight: bold;display: inline-block;line-height: 1.2em;}#sk-container-id-2 div.sk-label-container {text-align: center;}#sk-container-id-2 div.sk-container {/* jupyter's `normalize.less` sets `[hidden] { display: none; }` but bootstrap.min.css set `[hidden] { display: none !important; }` so we also need the `!important` here to be able to override the default hidden behavior on the sphinx rendered scikit-learn.org. See: https://github.com/scikit-learn/scikit-learn/issues/21755 */display: inline-block !important;position: relative;}#sk-container-id-2 div.sk-text-repr-fallback {display: none;}</style><div id=\"sk-container-id-2\" class=\"sk-top-container\"><div class=\"sk-text-repr-fallback\"><pre>XGBRegressor(base_score=None, booster=None, callbacks=None,\n",
              "             colsample_bylevel=None, colsample_bynode=None,\n",
              "             colsample_bytree=None, device=None, early_stopping_rounds=None,\n",
              "             enable_categorical=False, eval_metric=None, feature_types=None,\n",
              "             gamma=None, grow_policy=None, importance_type=None,\n",
              "             interaction_constraints=None, learning_rate=None, max_bin=None,\n",
              "             max_cat_threshold=None, max_cat_to_onehot=None,\n",
              "             max_delta_step=None, max_depth=None, max_leaves=None,\n",
              "             min_child_weight=None, missing=nan, monotone_constraints=None,\n",
              "             multi_strategy=None, n_estimators=None, n_jobs=None,\n",
              "             num_parallel_tree=None, random_state=None, ...)</pre><b>In a Jupyter environment, please rerun this cell to show the HTML representation or trust the notebook. <br />On GitHub, the HTML representation is unable to render, please try loading this page with nbviewer.org.</b></div><div class=\"sk-container\" hidden><div class=\"sk-item\"><div class=\"sk-estimator sk-toggleable\"><input class=\"sk-toggleable__control sk-hidden--visually\" id=\"sk-estimator-id-2\" type=\"checkbox\" checked><label for=\"sk-estimator-id-2\" class=\"sk-toggleable__label sk-toggleable__label-arrow\">XGBRegressor</label><div class=\"sk-toggleable__content\"><pre>XGBRegressor(base_score=None, booster=None, callbacks=None,\n",
              "             colsample_bylevel=None, colsample_bynode=None,\n",
              "             colsample_bytree=None, device=None, early_stopping_rounds=None,\n",
              "             enable_categorical=False, eval_metric=None, feature_types=None,\n",
              "             gamma=None, grow_policy=None, importance_type=None,\n",
              "             interaction_constraints=None, learning_rate=None, max_bin=None,\n",
              "             max_cat_threshold=None, max_cat_to_onehot=None,\n",
              "             max_delta_step=None, max_depth=None, max_leaves=None,\n",
              "             min_child_weight=None, missing=nan, monotone_constraints=None,\n",
              "             multi_strategy=None, n_estimators=None, n_jobs=None,\n",
              "             num_parallel_tree=None, random_state=None, ...)</pre></div></div></div></div></div>"
            ]
          },
          "metadata": {},
          "execution_count": 62
        }
      ]
    },
    {
      "cell_type": "code",
      "source": [
        "y_pred = xgbr.predict(X_test)"
      ],
      "metadata": {
        "id": "fYj95Tv4mcJV"
      },
      "execution_count": 63,
      "outputs": []
    },
    {
      "cell_type": "code",
      "source": [
        "r2_score(y_pred, y_test)"
      ],
      "metadata": {
        "colab": {
          "base_uri": "https://localhost:8080/"
        },
        "id": "vAuCDXQRmkIe",
        "outputId": "ec0fe6c1-fc35-4dcc-dc22-4dacf3c9a647"
      },
      "execution_count": 64,
      "outputs": [
        {
          "output_type": "execute_result",
          "data": {
            "text/plain": [
              "0.9099632433224916"
            ]
          },
          "metadata": {},
          "execution_count": 64
        }
      ]
    },
    {
      "cell_type": "code",
      "source": [
        "import pickle\n",
        "\n",
        "with open('xgbr_pep_co.pickle', 'wb') as f:\n",
        "    pickle.dump(xgbr, f)"
      ],
      "metadata": {
        "id": "72Bo8HjPnKMG"
      },
      "execution_count": 65,
      "outputs": []
    },
    {
      "cell_type": "markdown",
      "source": [
        "#### Results"
      ],
      "metadata": {
        "id": "T-2eX9z3T32A"
      }
    },
    {
      "cell_type": "markdown",
      "source": [
        "The problem with this model is that it uses different products to predict the\n",
        "units sold. Therefore the 800g Oatmeal is the highest predictor of units sold. We have to separate the product in terms of training data. If we seperate the training data by product then we'll have less data for our\n",
        "training model.\n",
        "\n",
        "However, we'll have multiple models trained for each product. We can do a test\n",
        "to train 1 product and see the results. As to feature importances."
      ],
      "metadata": {
        "id": "fJGfBf42P3IJ"
      }
    }
  ]
}